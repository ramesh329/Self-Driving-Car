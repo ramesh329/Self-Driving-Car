{
 "cells": [
  {
   "cell_type": "code",
   "execution_count": 1,
   "metadata": {},
   "outputs": [
    {
     "name": "stderr",
     "output_type": "stream",
     "text": [
      "C:\\Users\\Gangadhar\\Anaconda3\\lib\\site-packages\\h5py\\__init__.py:36: FutureWarning: Conversion of the second argument of issubdtype from `float` to `np.floating` is deprecated. In future, it will be treated as `np.float64 == np.dtype(float).type`.\n",
      "  from ._conv import register_converters as _register_converters\n",
      "Using TensorFlow backend.\n"
     ]
    }
   ],
   "source": [
    "#importing required librairies\n",
    "from __future__ import division\n",
    "import os\n",
    "import numpy as np\n",
    "import random\n",
    "import scipy.misc\n",
    "from scipy import pi #to convert steering angles to radins\n",
    "from itertools import islice\n",
    "import matplotlib.pyplot as plt \n",
    "import tensorflow as tf\n",
    "import scipy\n",
    "from tensorflow.core.protobuf import saver_pb2\n",
    "import driving_data\n",
    "import model\n",
    "import cv2\n",
    "from subprocess import call\n",
    "import math\n",
    "from keras.models import Sequential \n",
    "from keras.layers import Dense, Activation \n",
    "# import the necessary packages\n",
    "from keras.models import Sequential\n",
    "from keras.layers.convolutional import Conv2D\n",
    "from keras.layers.convolutional import MaxPooling2D\n",
    "from keras.layers.core import Activation\n",
    "from keras.layers.core import Flatten\n",
    "from keras.layers.core import Dense\n",
    "from keras import backend as K\n",
    "from prettytable import PrettyTable\n",
    "from keras.layers import Dense, Conv2D, MaxPooling2D, Dropout, Flatten\n",
    "from keras.preprocessing.image import img_to_array\n",
    "from __future__ import division\n",
    "from scipy.misc import imread, imresize\n",
    "from itertools import islice\n",
    "from keras.layers import  Input\n",
    "from keras.layers.core import Dense, Flatten, Lambda, Activation, Dropout\n",
    "from keras.models import Model\n",
    "from keras.optimizers import SGD\n",
    "import tensorflow as tf\n",
    "from keras import backend as K"
   ]
  },
  {
   "cell_type": "markdown",
   "metadata": {},
   "source": [
    "## Checking the PDF of Steering Angle"
   ]
  },
  {
   "cell_type": "code",
   "execution_count": 2,
   "metadata": {},
   "outputs": [
    {
     "name": "stdout",
     "output_type": "stream",
     "text": [
      "Completed processing data.txt\n"
     ]
    },
    {
     "data": {
      "image/png": "[encoded data removed]",
      "text/plain": [
       "<Figure size 432x288 with 1 Axes>"
      ]
     },
     "metadata": {},
     "output_type": "display_data"
    },
    {
     "data": {
      "text/plain": [
       "<Figure size 1080x720 with 0 Axes>"
      ]
     },
     "metadata": {},
     "output_type": "display_data"
    }
   ],
   "source": [
    "#importing data\n",
    "DATA_FOLDER = './driving_dataset/'  #folde containing images and steering angle Data\n",
    "TRAIN_FILE = os.path.join(DATA_FOLDER, 'data.txt') #getting the steering angle data\n",
    "\n",
    "#spliting the data into 70-30 train and test data \n",
    "#first 70% as train and rest as test\n",
    "split =0.7 #fraction spliting the train data\n",
    "\n",
    "X = [] #Name of the images\n",
    "y = [] #steering angle data\n",
    "with open(TRAIN_FILE) as fp:\n",
    "    for line in islice(fp,None):\n",
    "        path, angle = line.strip().split()\n",
    "        full_path = os.path.join(DATA_FOLDER, path)\n",
    "        X.append(full_path)\n",
    "        # converting angle from degrees to radians\n",
    "        y.append(float(angle) * pi / 180 )\n",
    "\n",
    "\n",
    "y = np.array(y) #getting the final steering angle data\n",
    "print(\"Completed processing data.txt\")\n",
    "\n",
    "#spliting into train and test\n",
    "split_index = int(len(y)*0.7) \n",
    "train_y = y[:split_index]\n",
    "test_y = y[split_index:]\n",
    "\n",
    "\n",
    "#PDF of train and test 'y' values. \n",
    "plt.hist(train_y, bins=50, density=1, color='green', histtype ='step');\n",
    "plt.hist(test_y, bins=50, density=1, color='red', histtype ='step');\n",
    "plt.grid(True)\n",
    "plt.figure(figsize=(15,10))\n",
    "plt.show()         "
   ]
  },
  {
   "cell_type": "markdown",
   "metadata": {},
   "source": [
    "### Observations:\n",
    "    * train and test ditributions are not fully-overlapping which indicates a difference in train and test data\n",
    "    which is natural,as we split the data in temporal way and the driving conditions change over time.\n",
    "    * Most of the steering angles are distributed around zero ,from which we can infer that the road is straight most of the times\n",
    "    "
   ]
  },
  {
   "cell_type": "markdown",
   "metadata": {},
   "source": [
    "## Building a base-line model without training on Images"
   ]
  },
  {
   "cell_type": "code",
   "execution_count": 3,
   "metadata": {},
   "outputs": [
    {
     "name": "stdout",
     "output_type": "stream",
     "text": [
      "Test_MSE(MEAN):0.241561\n",
      "Test_MSE(ZERO):0.241107\n"
     ]
    }
   ],
   "source": [
    "#Model 0: Base line Model: y_test_pred = mean(y_train_i)\n",
    "#here we are taking each predicted value of each data-point as just the mean of all the steering-angles in the data\n",
    "train_mean_y = np.mean(train_y)\n",
    "#computiing the MSE of base-model\n",
    "print('Test_MSE(MEAN):%f' % np.mean(np.square(test_y-train_mean_y)) )\n",
    "\n",
    "#As most of the steering angle distributed around zero ,let us see the MSE by taking all predicted values as Zero \n",
    "print('Test_MSE(ZERO):%f' % np.mean(np.square(test_y-0.0)) )\n"
   ]
  },
  {
   "cell_type": "markdown",
   "metadata": {
    "collapsed": true
   },
   "source": [
    "### Observations:\n",
    "   * We know the Ideal MSE that we can get is Zero for a Regression problem.\n",
    "   * By just using base-models like taking mean or taking the most occuring values of steering angles , we got MSE values close to Zero, which are pretty decent.\n",
    "   * We have to get the MSE value less than 0.24 by training CNN model.\n",
    "    "
   ]
  },
  {
   "cell_type": "markdown",
   "metadata": {},
   "source": [
    "# Building end-to-end CNN model"
   ]
  },
  {
   "cell_type": "code",
   "execution_count": 4,
   "metadata": {},
   "outputs": [
    {
     "name": "stdout",
     "output_type": "stream",
     "text": [
      "Number of images in the Data-set are: 45406\n"
     ]
    }
   ],
   "source": [
    "#seperating the images and steering angles \n",
    "xs = [] #images data\n",
    "ys = [] #steering angle data\n",
    "\n",
    "#points to the end of the last batch , these are used while importing data batch-size which indicates the index at which\n",
    "#previous batch stopped and starts a new batch from that index\n",
    "train_batch_pointer = 0 \n",
    "test_batch_pointer = 0\n",
    "\n",
    "#read data.txt\n",
    "with open(\"driving_dataset/data.txt\") as f:\n",
    "    for line in f:\n",
    "        xs.append(\"driving_dataset/\" + line.split()[0])\n",
    "        #so the steering wheel angle in radians is used as the output\n",
    "        ys.append(float(line.split()[1]) * scipy.pi / 180)\n",
    "\n",
    "#get number of images\n",
    "num_images = len(xs)\n",
    "print(\"Number of images in the Data-set are: {}\".format(num_images))"
   ]
  },
  {
   "cell_type": "markdown",
   "metadata": {},
   "source": [
    "## Train-Test Split (70-30)"
   ]
  },
  {
   "cell_type": "code",
   "execution_count": 5,
   "metadata": {},
   "outputs": [
    {
     "name": "stdout",
     "output_type": "stream",
     "text": [
      "Number of images in the train-data are: 31784\n",
      "Number of images in the test-data are: 13621\n"
     ]
    }
   ],
   "source": [
    "#splitting the data into 70-30 train and test ,here we take first 70% of the data as train and rest as test\n",
    "train_xs = (xs[:int(len(xs) * 0.7)])\n",
    "train_ys = (ys[:int(len(xs) * 0.7)])\n",
    "\n",
    "#taking the rest 30% as test data\n",
    "test_xs =(xs[-int(len(xs) * 0.3):])\n",
    "test_ys = (ys[-int(len(xs) * 0.3):])\n",
    "\n",
    "#getting the number of images in train and test data\n",
    "num_train_images = len(train_xs)\n",
    "num_test_images = len(test_xs)\n",
    "\n",
    "print(\"Number of images in the train-data are: {}\".format(num_train_images))\n",
    "print(\"Number of images in the test-data are: {}\".format(num_test_images))"
   ]
  },
  {
   "cell_type": "code",
   "execution_count": 6,
   "metadata": {},
   "outputs": [],
   "source": [
    "#utility functions for loading data batch-wise\n",
    "#batch_size will be given by us\n",
    "def LoadTrainBatch(batch_size):\n",
    "    global train_batch_pointer #we start from zero\n",
    "    x_out = []\n",
    "    y_out = []\n",
    "    for i in range(0, batch_size):\n",
    "        x_out.append(scipy.misc.imresize(scipy.misc.imread(train_xs[(train_batch_pointer + i) \n",
    "                                                                % num_train_images])[-150:], [66, 200]) / 255.0)\n",
    "        #here we are taking last 150 rows of the image and normalizing the data by dividing by 255\n",
    "        y_out.append([train_ys[(train_batch_pointer + i) % num_train_images]])\n",
    "    train_batch_pointer += batch_size #start from where the previous batch left\n",
    "    return x_out, y_out\n",
    "\n",
    "def LoadValBatch(batch_size):\n",
    "    global test_batch_pointer\n",
    "    x_out = []\n",
    "    y_out = []\n",
    "    for i in range(0, batch_size):\n",
    "        x_out.append(scipy.misc.imresize(scipy.misc.imread(test_xs[(test_batch_pointer + i)\n",
    "                                                                  % num_test_images])[-150:], [66, 200]) / 255.0)\n",
    "         #here we are taking last 150 rows of the image and normalizing the data by dividing by 255\n",
    "        y_out.append([test_ys[(test_batch_pointer + i) % num_test_images]])\n",
    "    test_batch_pointer += batch_size #start from where the previous batch left\n",
    "    return x_out, y_out\n"
   ]
  },
  {
   "cell_type": "markdown",
   "metadata": {},
   "source": [
    "## Building a 5-layered CNN and 3-fully connected Layers Network model for Training"
   ]
  },
  {
   "cell_type": "code",
   "execution_count": 7,
   "metadata": {},
   "outputs": [],
   "source": [
    "#utility functions for weight and bias initializations for avoiding redefining every single time\n",
    "#initilizing weights randomly with standard deviation of 0.1\n",
    "def weight_variable(shape):\n",
    "    initial = tf.truncated_normal(shape, stddev=0.1) #this is not a normal normal distribution, we truncate the tails \n",
    "    return tf.Variable(initial)\n",
    "\n",
    "def bias_variable(shape):\n",
    "    initial = tf.constant(0.1, shape=shape)\n",
    "    return tf.Variable(initial)\n",
    "\n",
    "#utility function for kernel convolution\n",
    "# x : the image\n",
    "def conv2d(x, W, stride):\n",
    "    return tf.nn.conv2d(x, W, strides=[1, stride, stride, 1], padding='VALID')\n",
    "\n",
    "#defining the dimensions of the image input and steering angle\n",
    "# x : None is batch_size , 66*200 :actual image size 3: RGB layers of the image\n",
    "# y : we have batch size and corresponding steering angles\n",
    "x = tf.placeholder(tf.float32, shape=[None, 66, 200, 3])\n",
    "y_ = tf.placeholder(tf.float32, shape=[None, 1])\n",
    "\n",
    "x_image = x #ranamimg x as x_image as input is image in our model\n",
    "\n",
    "#first convolutional layer and their corresponding weights\n",
    "W_conv1 = weight_variable([5, 5, 3, 24])  #kernel_size 5*5 \n",
    "b_conv1 = bias_variable([24])\n",
    "\n",
    "h_conv1 = tf.nn.relu(conv2d(x_image, W_conv1, 2) + b_conv1) #2*2 striding\n",
    "\n",
    "#second convolutional layer  and their corresponding weights\n",
    "W_conv2 = weight_variable([5, 5, 24, 36])  #kernel_size 5*5 \n",
    "b_conv2 = bias_variable([36])\n",
    "\n",
    "h_conv2 = tf.nn.relu(conv2d(h_conv1, W_conv2, 2) + b_conv2) #2*2 striding\n",
    "\n",
    "\n",
    "#third convolutional layer  and their corresponding weights\n",
    "W_conv3 = weight_variable([5, 5, 36, 48]) #kernel_size 5*5 \n",
    "b_conv3 = bias_variable([48])\n",
    "\n",
    "h_conv3 = tf.nn.relu(conv2d(h_conv2, W_conv3, 2) + b_conv3) #2*2 striding\n",
    "\n",
    "#fourth convolutional layer  and their corresponding weights\n",
    "W_conv4 = weight_variable([3, 3, 48, 64]) #kernel_size 3*3 \n",
    "b_conv4 = bias_variable([64])\n",
    "\n",
    "h_conv4 = tf.nn.relu(conv2d(h_conv3, W_conv4, 1) + b_conv4) #no striding\n",
    "\n",
    "#fifth convolutional layer  and their corresponding weights\n",
    "W_conv5 = weight_variable([3, 3, 64, 64]) #kernel_size 3*3 \n",
    "b_conv5 = bias_variable([64])\n",
    "\n",
    "h_conv5 = tf.nn.relu(conv2d(h_conv4, W_conv5, 1) + b_conv5) #no striding\n",
    "\n",
    "#flattening layers with 1164 neurons\n",
    "#weight and bias initializations\n",
    "W_fc1 = weight_variable([1152, 1164])\n",
    "b_fc1 = bias_variable([1164])\n",
    "\n",
    "h_conv5_flat = tf.reshape(h_conv5, [-1, 1152]) #flattenig\n",
    "h_fc1 = tf.nn.relu(tf.matmul(h_conv5_flat, W_fc1) + b_fc1)\n",
    "\n",
    "keep_prob = tf.placeholder(tf.float32)\n",
    "h_fc1_drop = tf.nn.dropout(h_fc1, keep_prob) #dropout to avoid overfitting\n",
    "\n",
    "#fully connected layer1 with 100 neurons\n",
    "#weight and bias initializations\n",
    "W_fc2 = weight_variable([1164, 100])\n",
    "b_fc2 = bias_variable([100])\n",
    "\n",
    "h_fc2 = tf.nn.relu(tf.matmul(h_fc1_drop, W_fc2) + b_fc2)\n",
    "h_fc2_drop = tf.nn.dropout(h_fc2, keep_prob) #dropout\n",
    "\n",
    "#fully connected layer2 with 50 neurons\n",
    "#weight and bias initializations\n",
    "W_fc3 = weight_variable([100, 50])\n",
    "b_fc3 = bias_variable([50])\n",
    "\n",
    "h_fc3 = tf.nn.relu(tf.matmul(h_fc2_drop, W_fc3) + b_fc3)\n",
    "h_fc3_drop = tf.nn.dropout(h_fc3, keep_prob) #dropout\n",
    "\n",
    "#fully connected layer3 with 10 neurons\n",
    "#weight and bias initializations\n",
    "W_fc4 = weight_variable([50, 10])\n",
    "b_fc4 = bias_variable([10])\n",
    "\n",
    "h_fc4 = tf.nn.relu(tf.matmul(h_fc3_drop, W_fc4) + b_fc4)\n",
    "h_fc4_drop = tf.nn.dropout(h_fc4, keep_prob) #dropout\n",
    "\n",
    "#Output layer which gives the steering angle in radians\n",
    "#weight and bias initializations\n",
    "W_fc5 = weight_variable([10, 1])\n",
    "b_fc5 = bias_variable([1])\n",
    "\n",
    "y = (tf.matmul(h_fc4_drop, W_fc5) + b_fc5)#using linear for the final-output\n"
   ]
  },
  {
   "cell_type": "markdown",
   "metadata": {},
   "source": [
    "## Training Model with CNN Network "
   ]
  },
  {
   "cell_type": "code",
   "execution_count": 8,
   "metadata": {},
   "outputs": [
    {
     "name": "stdout",
     "output_type": "stream",
     "text": [
      "WARNING:tensorflow:From C:\\Users\\Gangadhar\\Anaconda3\\lib\\site-packages\\tensorflow\\python\\util\\tf_should_use.py:118: initialize_all_variables (from tensorflow.python.ops.variables) is deprecated and will be removed after 2017-03-02.\n",
      "Instructions for updating:\n",
      "Use `tf.global_variables_initializer` instead.\n",
      "Epoch: 0, Step: 0, Loss: 12.3464\n",
      "Epoch: 0, Step: 100, Loss: 5.22324\n",
      "Epoch: 0, Step: 200, Loss: 3.32628\n",
      "Epoch: 0, Step: 300, Loss: 2.51605\n",
      "Epoch: 0, Step: 400, Loss: 2.03048\n",
      "Epoch: 1, Step: 100, Loss: 1.8443\n",
      "Epoch: 1, Step: 200, Loss: 1.63252\n",
      "Epoch: 1, Step: 300, Loss: 2.10093\n",
      "Epoch: 1, Step: 400, Loss: 2.63754\n",
      "Epoch: 1, Step: 500, Loss: 1.14754\n",
      "Epoch: 2, Step: 200, Loss: 0.991432\n",
      "Epoch: 2, Step: 300, Loss: 0.753318\n",
      "Epoch: 2, Step: 400, Loss: 0.661729\n",
      "Epoch: 2, Step: 500, Loss: 0.57483\n",
      "Epoch: 2, Step: 600, Loss: 0.511839\n",
      "Epoch: 3, Step: 300, Loss: 0.498795\n",
      "Epoch: 3, Step: 400, Loss: 0.448079\n",
      "Epoch: 3, Step: 500, Loss: 0.367517\n",
      "Epoch: 3, Step: 600, Loss: 0.436745\n",
      "Epoch: 3, Step: 700, Loss: 0.683385\n",
      "Epoch: 4, Step: 400, Loss: 0.362174\n",
      "Epoch: 4, Step: 500, Loss: 0.38522\n",
      "Epoch: 4, Step: 600, Loss: 0.217683\n",
      "Epoch: 4, Step: 700, Loss: 0.198596\n",
      "Epoch: 4, Step: 800, Loss: 0.173759\n",
      "Epoch: 5, Step: 500, Loss: 0.160989\n",
      "Epoch: 5, Step: 600, Loss: 0.159867\n",
      "Epoch: 5, Step: 700, Loss: 4.72389\n",
      "Epoch: 5, Step: 800, Loss: 0.91447\n",
      "Epoch: 5, Step: 900, Loss: 0.111448\n",
      "Epoch: 6, Step: 600, Loss: 0.0993325\n",
      "Epoch: 6, Step: 700, Loss: 0.0967206\n",
      "Epoch: 6, Step: 800, Loss: 0.089726\n",
      "Epoch: 6, Step: 900, Loss: 0.0741269\n",
      "Epoch: 6, Step: 1000, Loss: 0.064556\n",
      "Epoch: 7, Step: 700, Loss: 0.0598923\n",
      "Epoch: 7, Step: 800, Loss: 0.0544219\n",
      "Epoch: 7, Step: 900, Loss: 0.0529378\n",
      "Epoch: 7, Step: 1000, Loss: 0.0466817\n",
      "Epoch: 7, Step: 1100, Loss: 0.056475\n",
      "Epoch: 8, Step: 800, Loss: 0.0891806\n",
      "Epoch: 8, Step: 900, Loss: 0.0551718\n",
      "Epoch: 8, Step: 1000, Loss: 0.0314767\n",
      "Epoch: 8, Step: 1100, Loss: 0.0283618\n",
      "Epoch: 8, Step: 1200, Loss: 0.0263035\n",
      "Epoch: 9, Step: 900, Loss: 0.0255265\n",
      "Epoch: 9, Step: 1000, Loss: 0.0210911\n",
      "Epoch: 9, Step: 1100, Loss: 0.0202493\n",
      "Epoch: 9, Step: 1200, Loss: 0.017338\n",
      "Epoch: 9, Step: 1300, Loss: 0.0164936\n",
      "Epoch: 10, Step: 1000, Loss: 0.0160968\n",
      "Epoch: 10, Step: 1100, Loss: 0.0141514\n",
      "Epoch: 10, Step: 1200, Loss: 0.0129355\n",
      "Epoch: 10, Step: 1300, Loss: 0.0122474\n",
      "Epoch: 10, Step: 1400, Loss: 0.0101868\n",
      "Epoch: 11, Step: 1100, Loss: 0.00937754\n",
      "Epoch: 11, Step: 1200, Loss: 0.0101539\n",
      "Epoch: 11, Step: 1300, Loss: 0.0671667\n",
      "Epoch: 11, Step: 1400, Loss: 0.321996\n",
      "Epoch: 11, Step: 1500, Loss: 5.08803\n",
      "Epoch: 12, Step: 1200, Loss: 0.0136943\n",
      "Epoch: 12, Step: 1300, Loss: 0.00750316\n",
      "Epoch: 12, Step: 1400, Loss: 0.0410635\n",
      "Epoch: 12, Step: 1500, Loss: 0.0821956\n",
      "Epoch: 12, Step: 1600, Loss: 0.0715187\n",
      "Epoch: 13, Step: 1300, Loss: 0.0090571\n",
      "Epoch: 13, Step: 1400, Loss: 0.124132\n",
      "Epoch: 13, Step: 1500, Loss: 0.0403181\n",
      "Epoch: 13, Step: 1600, Loss: 0.0041762\n",
      "Epoch: 13, Step: 1700, Loss: 0.0551024\n",
      "Epoch: 14, Step: 1400, Loss: 0.015846\n",
      "Epoch: 14, Step: 1500, Loss: 0.0122898\n",
      "Epoch: 14, Step: 1600, Loss: 0.0491811\n",
      "Epoch: 14, Step: 1700, Loss: 0.126985\n",
      "Epoch: 14, Step: 1800, Loss: 0.0526635\n",
      "Epoch: 15, Step: 1500, Loss: 0.116664\n",
      "Epoch: 15, Step: 1600, Loss: 0.0449394\n",
      "Epoch: 15, Step: 1700, Loss: 0.0296853\n",
      "Epoch: 15, Step: 1800, Loss: 0.0238283\n",
      "Epoch: 15, Step: 1900, Loss: 0.0218338\n",
      "Epoch: 16, Step: 1600, Loss: 0.023253\n",
      "Epoch: 16, Step: 1700, Loss: 0.0131732\n",
      "Epoch: 16, Step: 1800, Loss: 0.0194402\n",
      "Epoch: 16, Step: 1900, Loss: 0.0224633\n",
      "Epoch: 16, Step: 2000, Loss: 0.0242822\n",
      "Epoch: 17, Step: 1700, Loss: 0.0195611\n",
      "Epoch: 17, Step: 1800, Loss: 0.0364816\n",
      "Epoch: 17, Step: 1900, Loss: 0.00708818\n",
      "Epoch: 17, Step: 2000, Loss: 0.023407\n",
      "Epoch: 17, Step: 2100, Loss: 0.082767\n",
      "Epoch: 18, Step: 1800, Loss: 0.0196723\n",
      "Epoch: 18, Step: 1900, Loss: 0.414638\n",
      "Epoch: 18, Step: 2000, Loss: 0.622352\n",
      "Epoch: 18, Step: 2100, Loss: 0.214165\n",
      "Epoch: 18, Step: 2200, Loss: 0.0598708\n",
      "Epoch: 19, Step: 1900, Loss: 0.0466146\n",
      "Epoch: 19, Step: 2000, Loss: 0.012659\n",
      "Epoch: 19, Step: 2100, Loss: 0.14164\n",
      "Epoch: 19, Step: 2200, Loss: 1.04493\n",
      "Epoch: 19, Step: 2300, Loss: 1.28885\n",
      "Epoch: 20, Step: 2000, Loss: 0.0687286\n",
      "Epoch: 20, Step: 2100, Loss: 0.101882\n",
      "Epoch: 20, Step: 2200, Loss: 0.00149005\n",
      "Epoch: 20, Step: 2300, Loss: 0.00444362\n",
      "Epoch: 20, Step: 2400, Loss: 0.00875291\n",
      "Epoch: 21, Step: 2100, Loss: 0.0222\n",
      "Epoch: 21, Step: 2200, Loss: 0.0451321\n",
      "Epoch: 21, Step: 2300, Loss: 0.0261378\n",
      "Epoch: 21, Step: 2400, Loss: 0.00681904\n",
      "Epoch: 21, Step: 2500, Loss: 0.116203\n",
      "Epoch: 22, Step: 2200, Loss: 0.422154\n",
      "Epoch: 22, Step: 2300, Loss: 0.153247\n",
      "Epoch: 22, Step: 2400, Loss: 0.102305\n",
      "Epoch: 22, Step: 2500, Loss: 0.00905369\n",
      "Epoch: 22, Step: 2600, Loss: 0.0126923\n",
      "Epoch: 23, Step: 2300, Loss: 0.0158132\n",
      "Epoch: 23, Step: 2400, Loss: 0.014481\n",
      "Epoch: 23, Step: 2500, Loss: 0.0683574\n",
      "Epoch: 23, Step: 2600, Loss: 5.20032\n",
      "Epoch: 23, Step: 2700, Loss: 0.167916\n",
      "Epoch: 24, Step: 2400, Loss: 0.0140027\n",
      "Epoch: 24, Step: 2500, Loss: 0.00273059\n",
      "Epoch: 24, Step: 2600, Loss: 0.0107892\n",
      "Epoch: 24, Step: 2700, Loss: 0.0133272\n",
      "Epoch: 24, Step: 2800, Loss: 0.00593534\n",
      "Epoch: 25, Step: 2500, Loss: 0.0050979\n",
      "Epoch: 25, Step: 2600, Loss: 0.00211202\n",
      "Epoch: 25, Step: 2700, Loss: 0.00130674\n",
      "Epoch: 25, Step: 2800, Loss: 0.00297902\n",
      "Epoch: 25, Step: 2900, Loss: 0.00506515\n",
      "Epoch: 26, Step: 2600, Loss: 0.0244991\n",
      "Epoch: 26, Step: 2700, Loss: 0.0499636\n",
      "Epoch: 26, Step: 2800, Loss: 0.0222892\n",
      "Epoch: 26, Step: 2900, Loss: 0.00245816\n",
      "Epoch: 26, Step: 3000, Loss: 0.000953142\n",
      "Epoch: 27, Step: 2700, Loss: 0.000328371\n",
      "Epoch: 27, Step: 2800, Loss: 0.0014298\n",
      "Epoch: 27, Step: 2900, Loss: 0.000901836\n",
      "Epoch: 27, Step: 3000, Loss: 0.00182224\n",
      "Epoch: 27, Step: 3100, Loss: 0.000501549\n",
      "Epoch: 28, Step: 2800, Loss: 0.000923358\n",
      "Epoch: 28, Step: 2900, Loss: 0.00360149\n",
      "Epoch: 28, Step: 3000, Loss: 0.00145038\n",
      "Epoch: 28, Step: 3100, Loss: 0.000826\n",
      "Epoch: 28, Step: 3200, Loss: 0.0014436\n",
      "Epoch: 29, Step: 2900, Loss: 0.00189282\n",
      "Epoch: 29, Step: 3000, Loss: 0.000965171\n",
      "Epoch: 29, Step: 3100, Loss: 0.00337624\n",
      "Epoch: 29, Step: 3200, Loss: 0.0610871\n",
      "Epoch: 29, Step: 3300, Loss: 1.53258\n"
     ]
    }
   ],
   "source": [
    "#creating a folder to save the trained model\n",
    "LOGDIR = './save'\n",
    "\n",
    "#initializing the tensorfloe session\n",
    "sess = tf.InteractiveSession()\n",
    "\n",
    "#regularization parameter for loss funcation\n",
    "L2NormConst = 0.001\n",
    "\n",
    "#training weights\n",
    "train_vars = tf.trainable_variables()\n",
    "\n",
    "#defining MSE with regularization\n",
    "loss = tf.reduce_mean(tf.square(tf.subtract(model.y_, model.y)))+ tf.add_n([tf.nn.l2_loss(v) for v in train_vars]) * L2NormConst\n",
    "#optimizing using adam optimizer with learning rate 0.001 to minimize loss  \n",
    "train_step = tf.train.AdamOptimizer(1e-3).minimize(loss)\n",
    "sess.run(tf.initialize_all_variables())\n",
    "\n",
    "# create a summary to monitor cost tensor\n",
    "tf.summary.scalar(\"loss\", loss)\n",
    "# merge all summaries into a single op\n",
    "merged_summary_op =  tf.summary.merge_all()\n",
    "\n",
    "saver = tf.train.Saver(write_version = saver_pb2.SaverDef.V1)\n",
    "\n",
    "# op to write logs to Tensorboard\n",
    "logs_path = './logs'\n",
    "summary_writer = tf.summary.FileWriter(logs_path, graph=tf.get_default_graph())\n",
    "\n",
    "epochs = 30 #number of epochs to run the model\n",
    "batch_size = 100 #batch_size to input data\n",
    "\n",
    "# train over the dataset about 30 times\n",
    "for epoch in range(epochs):\n",
    "    for i in range(int(driving_data.num_images/batch_size)):\n",
    "        xs, ys = driving_data.LoadTrainBatch(batch_size) #loading train data by batch-size\n",
    "        train_step.run(feed_dict={model.x: xs, model.y_: ys, model.keep_prob: 0.5}) #dropout rate =0.5\n",
    "        if i % 100 == 0:\n",
    "            xs, ys = driving_data.LoadValBatch(batch_size) #loading test data by batch-size\n",
    "            loss_value = loss.eval(feed_dict={model.x:xs, model.y_: ys, model.keep_prob: 1.0})\n",
    "            print(\"Epoch: %d, Step: %d, Loss: %g\" % (epoch, epoch * batch_size + i, loss_value))\n",
    "\n",
    "       # write logs at every iteration\n",
    "    summary = merged_summary_op.eval(feed_dict={model.x:xs, model.y_: ys, model.keep_prob: 1.0})\n",
    "    summary_writer.add_summary(summary, epoch * driving_data.num_images/batch_size + i)\n",
    "\n",
    "    if i % batch_size == 0:\n",
    "        if not os.path.exists(LOGDIR):\n",
    "            os.makedirs(LOGDIR)\n",
    "        checkpoint_path = os.path.join(LOGDIR, \"model.ckpt\")\n",
    "        filename = saver.save(sess, checkpoint_path)\n",
    "        print(\"Model saved in file: %s\" % filename)"
   ]
  },
  {
   "cell_type": "markdown",
   "metadata": {},
   "source": [
    "## Keras Implementation"
   ]
  },
  {
   "cell_type": "code",
   "execution_count": 3,
   "metadata": {},
   "outputs": [],
   "source": [
    "LIMIT = None\n",
    "DATA_FOLDER = 'driving_dataset'\n",
    "TRAIN_FILE = os.path.join(DATA_FOLDER, 'data.txt')\n",
    "\n",
    "def return_data(split):\n",
    "    X = []\n",
    "    y = []\n",
    "\n",
    "    with open(TRAIN_FILE) as fp:\n",
    "        for line in islice(fp, LIMIT):\n",
    "            path, angle = line.strip().split()\n",
    "            full_path = os.path.join(DATA_FOLDER, path)\n",
    "            X.append(full_path)\n",
    "            # using angles from -pi to pi to avoid rescaling the atan in the network\n",
    "            y.append(float(angle) * pi / 180 / 2)\n",
    "    y = np.array(y)\n",
    "\n",
    "\n",
    "    images = np.array([np.float32(imresize(imread(im[-150:]), size=(66, 200))) / 255 for im in X])\n",
    "    split_index = int(split * len(X))\n",
    "\n",
    "    train_X = images[:split_index]\n",
    "    train_y = y[:split_index]\n",
    "    test_X = images[split_index:]\n",
    "    test_y = y[split_index:]\n",
    "\n",
    "    return np.array(train_X), np.array(train_y), np.array(test_X), np.array(test_y)"
   ]
  },
  {
   "cell_type": "code",
   "execution_count": 29,
   "metadata": {},
   "outputs": [],
   "source": [
    "def atan_layer(x):\n",
    "    print(x, tf.multiply(tf.atan(x), 2))\n",
    "    return tf.multiply(tf.atan(x), 2)\n",
    "\n",
    "def keras_model():\n",
    "\n",
    "    input_shape = Input(shape=(66, 200, 3)) #66*200 : image size 3: RGB layers of the image\n",
    "    conv_1 = Conv2D(24, 5, 5, activation='relu', name='conv_1', subsample=(2, 2))(input_shape) #5*5 kernel and 2*2 striding\n",
    "    conv_2 = Conv2D(36, 5, 5, activation='relu', name='conv_2', subsample=(2, 2))(conv_1) #5*5 kernel and 2*2 striding\n",
    "    conv_3 = Conv2D(48, 5, 5, activation='relu', name='conv_3', subsample=(2, 2))(conv_2) #5*5 kernel and 2*2 striding\n",
    "    conv_3 = Dropout(0.5)(conv_3)\n",
    "    conv_4 = Conv2D(64, 3, 3, activation='relu', name='conv_4', subsample=(1, 1))(conv_3) #3*3 kernel and 1*1 striding\n",
    "    conv_5 = Conv2D(64, 3, 3, activation='relu', name='conv_5', subsample=(1, 1))(conv_4) #3*3 kernel and 1*1 striding\n",
    "    flat = Flatten()(conv_5)\n",
    "    dense_1 = Dense(1164)(flat)\n",
    "    dense_1 = Dropout(0.5)(flat)\n",
    "    dense_2 = Dense(100, activation='relu')(dense_1)\n",
    "    dense_2 = Dropout(0.5)(flat)\n",
    "    dense_3 = Dense(50, activation='relu')(dense_2)\n",
    "    dense_3 = Dropout(0.5)(flat)\n",
    "    dense_4 = Dense(10, activation='relu')(dense_3)\n",
    "    dense_4 = Dropout(0.5)(flat)\n",
    "    final = Dense(1, activation=atan_layer)(dense_4) #output_layer\n",
    "    model = Model(input=input_shape, output=final)\n",
    "    model.compile(optimizer=\"adam\",loss='mse')\n",
    "\n",
    "    return model\n"
   ]
  },
  {
   "cell_type": "code",
   "execution_count": 30,
   "metadata": {},
   "outputs": [
    {
     "name": "stderr",
     "output_type": "stream",
     "text": [
      "C:\\Users\\Gangadhar\\Anaconda3\\lib\\site-packages\\ipykernel_launcher.py:19: DeprecationWarning: `imread` is deprecated!\n",
      "`imread` is deprecated in SciPy 1.0.0, and will be removed in 1.2.0.\n",
      "Use ``imageio.imread`` instead.\n",
      "C:\\Users\\Gangadhar\\Anaconda3\\lib\\site-packages\\ipykernel_launcher.py:19: DeprecationWarning: `imresize` is deprecated!\n",
      "`imresize` is deprecated in SciPy 1.0.0, and will be removed in 1.2.0.\n",
      "Use ``skimage.transform.resize`` instead.\n"
     ]
    }
   ],
   "source": [
    "#import load_data\n",
    "train_x1, train_y1, test_x1, test_y1 = return_data(split =0.7)"
   ]
  },
  {
   "cell_type": "code",
   "execution_count": 31,
   "metadata": {},
   "outputs": [
    {
     "name": "stderr",
     "output_type": "stream",
     "text": [
      "C:\\Users\\Gangadhar\\Anaconda3\\lib\\site-packages\\ipykernel_launcher.py:16: UserWarning: Update your `Conv2D` call to the Keras 2 API: `Conv2D(24, (5, 5), activation=\"relu\", name=\"conv_1\", strides=(2, 2))`\n",
      "  app.launch_new_instance()\n",
      "C:\\Users\\Gangadhar\\Anaconda3\\lib\\site-packages\\ipykernel_launcher.py:17: UserWarning: Update your `Conv2D` call to the Keras 2 API: `Conv2D(36, (5, 5), activation=\"relu\", name=\"conv_2\", strides=(2, 2))`\n",
      "C:\\Users\\Gangadhar\\Anaconda3\\lib\\site-packages\\ipykernel_launcher.py:18: UserWarning: Update your `Conv2D` call to the Keras 2 API: `Conv2D(48, (5, 5), activation=\"relu\", name=\"conv_3\", strides=(2, 2))`\n",
      "C:\\Users\\Gangadhar\\Anaconda3\\lib\\site-packages\\ipykernel_launcher.py:20: UserWarning: Update your `Conv2D` call to the Keras 2 API: `Conv2D(64, (3, 3), activation=\"relu\", name=\"conv_4\", strides=(1, 1))`\n",
      "C:\\Users\\Gangadhar\\Anaconda3\\lib\\site-packages\\ipykernel_launcher.py:21: UserWarning: Update your `Conv2D` call to the Keras 2 API: `Conv2D(64, (3, 3), activation=\"relu\", name=\"conv_5\", strides=(1, 1))`\n"
     ]
    },
    {
     "name": "stdout",
     "output_type": "stream",
     "text": [
      "Tensor(\"dense_50/BiasAdd:0\", shape=(?, 1), dtype=float32) Tensor(\"dense_50/Mul:0\", shape=(?, 1), dtype=float32)\n",
      "Starting training\n"
     ]
    },
    {
     "name": "stderr",
     "output_type": "stream",
     "text": [
      "C:\\Users\\Gangadhar\\Anaconda3\\lib\\site-packages\\ipykernel_launcher.py:32: UserWarning: Update your `Model` call to the Keras 2 API: `Model(inputs=Tensor(\"in..., outputs=Tensor(\"de...)`\n"
     ]
    },
    {
     "name": "stdout",
     "output_type": "stream",
     "text": [
      "Train on 31784 samples, validate on 13622 samples\n",
      "Epoch 1/30\n",
      "31784/31784 [==============================] - 154s 5ms/step - loss: 0.0761 - val_loss: 0.0540\n",
      "Epoch 2/30\n",
      "31784/31784 [==============================] - 148s 5ms/step - loss: 0.0668 - val_loss: 0.0694\n",
      "Epoch 3/30\n",
      "31784/31784 [==============================] - 149s 5ms/step - loss: 0.0530 - val_loss: 0.1000\n",
      "Epoch 4/30\n",
      "31784/31784 [==============================] - 148s 5ms/step - loss: 0.0392 - val_loss: 0.1097\n",
      "Epoch 5/30\n",
      "31784/31784 [==============================] - 149s 5ms/step - loss: 0.0314 - val_loss: 0.1153\n",
      "Epoch 6/30\n",
      "31784/31784 [==============================] - 149s 5ms/step - loss: 0.0251 - val_loss: 0.0752\n",
      "Epoch 7/30\n",
      "31784/31784 [==============================] - 148s 5ms/step - loss: 0.0238 - val_loss: 0.1081\n",
      "Epoch 8/30\n",
      "31784/31784 [==============================] - 149s 5ms/step - loss: 0.0189 - val_loss: 0.0921\n",
      "Epoch 9/30\n",
      "31784/31784 [==============================] - 150s 5ms/step - loss: 0.0180 - val_loss: 0.0727\n",
      "Epoch 10/30\n",
      "31784/31784 [==============================] - 148s 5ms/step - loss: 0.0172 - val_loss: 0.0705\n",
      "Epoch 11/30\n",
      "31784/31784 [==============================] - 149s 5ms/step - loss: 0.0150 - val_loss: 0.0725\n",
      "Epoch 12/30\n",
      "31784/31784 [==============================] - 148s 5ms/step - loss: 0.0151 - val_loss: 0.0728\n",
      "Epoch 13/30\n",
      "31784/31784 [==============================] - 148s 5ms/step - loss: 0.0143 - val_loss: 0.0661\n",
      "Epoch 14/30\n",
      "31784/31784 [==============================] - 152s 5ms/step - loss: 0.0140 - val_loss: 0.0619\n",
      "Epoch 15/30\n",
      "31784/31784 [==============================] - 150s 5ms/step - loss: 0.0141 - val_loss: 0.0686\n",
      "Epoch 16/30\n",
      "31784/31784 [==============================] - 151s 5ms/step - loss: 0.0133 - val_loss: 0.0857\n",
      "Epoch 17/30\n",
      "31784/31784 [==============================] - 153s 5ms/step - loss: 0.0130 - val_loss: 0.0634\n",
      "Epoch 18/30\n",
      "31784/31784 [==============================] - 154s 5ms/step - loss: 0.0128 - val_loss: 0.0606\n",
      "Epoch 19/30\n",
      "31784/31784 [==============================] - 154s 5ms/step - loss: 0.0121 - val_loss: 0.0839\n",
      "Epoch 20/30\n",
      "31784/31784 [==============================] - 151s 5ms/step - loss: 0.0117 - val_loss: 0.0681\n",
      "Epoch 21/30\n",
      "31784/31784 [==============================] - 151s 5ms/step - loss: 0.0136 - val_loss: 0.0653\n",
      "Epoch 22/30\n",
      "31784/31784 [==============================] - 150s 5ms/step - loss: 0.0114 - val_loss: 0.0677\n",
      "Epoch 23/30\n",
      "31784/31784 [==============================] - 149s 5ms/step - loss: 0.0116 - val_loss: 0.0762\n",
      "Epoch 24/30\n",
      "31784/31784 [==============================] - 152s 5ms/step - loss: 0.0112 - val_loss: 0.0746\n",
      "Epoch 25/30\n",
      "31784/31784 [==============================] - 158s 5ms/step - loss: 0.0121 - val_loss: 0.0818\n",
      "Epoch 26/30\n",
      "31784/31784 [==============================] - 159s 5ms/step - loss: 0.0153 - val_loss: 0.0659\n",
      "Epoch 27/30\n",
      "31784/31784 [==============================] - 157s 5ms/step - loss: 0.0107 - val_loss: 0.0648\n",
      "Epoch 28/30\n",
      "31784/31784 [==============================] - 157s 5ms/step - loss: 0.0101 - val_loss: 0.0609\n",
      "Epoch 29/30\n",
      "31784/31784 [==============================] - 154s 5ms/step - loss: 0.0101 - val_loss: 0.0619\n",
      "Epoch 30/30\n",
      "31784/31784 [==============================] - 154s 5ms/step - loss: 0.0098 - val_loss: 0.0600\n"
     ]
    }
   ],
   "source": [
    "model1 = keras_model()\n",
    "epochs = 30\n",
    "batch_size = 64\n",
    "\n",
    "print('Starting training')\n",
    "history = model1.fit(train_x1, train_y1,validation_data=(test_x1, test_y1),epochs=n_epochs,batch_size=batch_size)"
   ]
  },
  {
   "cell_type": "code",
   "execution_count": 38,
   "metadata": {},
   "outputs": [
    {
     "name": "stdout",
     "output_type": "stream",
     "text": [
      "Mean squared error : 0.059989482180327215\n"
     ]
    }
   ],
   "source": [
    "#evaluating on test-data\n",
    "test_predictions = model1.predict(test_x1)\n",
    "from sklearn.metrics import mean_squared_error\n",
    "mse = mean_squared_error(test_y1, test_predictions)\n",
    "print(\"Mean squared error : {}\".format(mse))"
   ]
  },
  {
   "cell_type": "code",
   "execution_count": 39,
   "metadata": {},
   "outputs": [
    {
     "data": {
      "text/plain": [
       "Text(0.5,1,'Mean squared Error Curves')"
      ]
     },
     "execution_count": 39,
     "metadata": {},
     "output_type": "execute_result"
    },
    {
     "data": {
      "image/png": "[encoded data removed]",
      "text/plain": [
       "<Figure size 576x432 with 1 Axes>"
      ]
     },
     "metadata": {},
     "output_type": "display_data"
    }
   ],
   "source": [
    "#Plot the Accuracy Curves\n",
    "plt.figure(figsize=[8,6])\n",
    "plt.plot(history.history['loss'],'r',linewidth=3.0)\n",
    "plt.plot(history.history['val_loss'],'b',linewidth=3.0)\n",
    "plt.legend(['Training MSE', 'Validation MSE'],fontsize=18)\n",
    "plt.xlabel('Epochs ',fontsize=16)\n",
    "plt.ylabel('MSE',fontsize=16)\n",
    "plt.title('Mean squared Error Curves',fontsize=16)\n"
   ]
  },
  {
   "cell_type": "markdown",
   "metadata": {},
   "source": [
    "## Conlusions:"
   ]
  },
  {
   "cell_type": "code",
   "execution_count": 40,
   "metadata": {},
   "outputs": [
    {
     "name": "stdout",
     "output_type": "stream",
     "text": [
      "+------------------+-----------+\n",
      "| metric/Parameter |   result  |\n",
      "+------------------+-----------+\n",
      "|      Model       | Base-line |\n",
      "|       MSE        |  0.241561 |\n",
      "+------------------+-----------+\n",
      "+------------------+----------------+\n",
      "| metric/Parameter |     result     |\n",
      "+------------------+----------------+\n",
      "|      Model       | CNN-TensorFlow |\n",
      "|     dropout      |      0.5       |\n",
      "|   final-layer    |     linear     |\n",
      "|    optimizer     |      adam      |\n",
      "|  learning_rate   |     0.001      |\n",
      "|       MSE        |    1.50731     |\n",
      "+------------------+----------------+\n",
      "+------------------+-----------+\n",
      "| metric/Parameter |   result  |\n",
      "+------------------+-----------+\n",
      "|      Model       | CNN-Keras |\n",
      "|     dropout      |    0.5    |\n",
      "|   final-layer    |    atan   |\n",
      "|    optimizer     |    adam   |\n",
      "|  learning_rate   |   0.001   |\n",
      "|       MSE        |    0.06   |\n",
      "+------------------+-----------+\n"
     ]
    }
   ],
   "source": [
    "#reporting the results in a table\n",
    "t= PrettyTable()\n",
    "t.field_names =[\"metric/Parameter\" , \"result\"]\n",
    "t.add_row ([\"Model\" ,\"Base-line\"])\n",
    "t.add_row ([\"MSE\" ,0.241561])\n",
    "print(t)\n",
    "\n",
    "\n",
    "t= PrettyTable()\n",
    "t.field_names =[\"metric/Parameter\" , \"result\"]\n",
    "t.add_row ([\"Model\" ,\"CNN-TensorFlow\"])\n",
    "t.add_row ([\"dropout\" ,0.5])\n",
    "t.add_row ([\"final-layer\" ,\"linear\"])\n",
    "t.add_row ([\"optimizer\" ,\"adam\"])\n",
    "t.add_row ([\"learning_rate\" ,0.001])\n",
    "t.add_row ([\"MSE\" ,1.50731])\n",
    "print(t)\n",
    "\n",
    "\n",
    "\n",
    "t= PrettyTable()\n",
    "t.field_names =[\"metric/Parameter\" , \"result\"]\n",
    "t.add_row ([\"Model\" ,\"CNN-Keras\"])\n",
    "t.add_row ([\"dropout\" ,0.5])\n",
    "t.add_row ([\"final-layer\" ,\"atan\"])\n",
    "t.add_row ([\"optimizer\" ,\"adam\"])\n",
    "t.add_row ([\"learning_rate\" ,0.001])\n",
    "t.add_row ([\"MSE\" , 0.0600\n",
    "])\n",
    "print(t)"
   ]
  }
 ],
 "metadata": {
  "accelerator": "GPU",
  "colab": {
   "collapsed_sections": [],
   "default_view": {},
   "name": "Self_driving_car.ipynb",
   "provenance": [],
   "version": "0.3.2",
   "views": {}
  },
  "kernelspec": {
   "display_name": "Python 3",
   "language": "python",
   "name": "python3"
  },
  "language_info": {
   "codemirror_mode": {
    "name": "ipython",
    "version": 3
   },
   "file_extension": ".py",
   "mimetype": "text/x-python",
   "name": "python",
   "nbconvert_exporter": "python",
   "pygments_lexer": "ipython3",
   "version": "3.6.5"
  }
 },
 "nbformat": 4,
 "nbformat_minor": 1
}
